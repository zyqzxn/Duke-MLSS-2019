{
 "cells": [
  {
   "cell_type": "markdown",
   "metadata": {},
   "source": [
    "# TensorFlow Installation"
   ]
  },
  {
   "cell_type": "markdown",
   "metadata": {},
   "source": [
    "A walkthrough to install TensorFlow for Python 3.6. If you already have TensorFlow on your machine and feel confident in your installation, you can skip this notebook.\n",
    "\n",
    "For the purposes of this tutorial, I'm recommending using Anaconda as your Python distribution and for managing your environments. If you'd rather use some other distribution or version of Python and feel confident in your abilities, you may also choose to just follow the instructions here: https://www.tensorflow.org/install/.\n",
    "\n",
    "This tutorial is broken up by operating system (OS). Pick the instructions for the OS that you plan to use, and then check your install:"
   ]
  },
  {
   "cell_type": "markdown",
   "metadata": {},
   "source": [
    "### Contents\n",
    "1. Ubuntu\n",
    "2. Windows\n",
    "3. Mac OS X\n",
    "4. Verify TensorFlow Installation"
   ]
  },
  {
   "cell_type": "markdown",
   "metadata": {},
   "source": [
    "## Ubuntu"
   ]
  },
  {
   "cell_type": "markdown",
   "metadata": {},
   "source": [
    "1. Download and install Anaconda\n",
    "\n",
    "    1.1 Go [here](https://www.anaconda.com/download/#linux) and click on the Python 3.7 installer matching your system's architecture (likely 64-bit X86).\n",
    "    \n",
    "    1.2 Navigate to your downloads directory in a terminal and run the installer:\n",
    "    \n",
    "    ```Shell\n",
    "    cd ~/Downloads/\n",
    "    bash Anaconda3-2019.03-Linux-x86_64.sh\n",
    "    ```\n",
    "    *Note: If prompted, you may find it helpful to say \"yes\" to the option to prepend `conda` to PATH. While there is a risk it might cause some dependency conflicts, it will also make it much easier to run `conda` commands from the terminal.* \n",
    "\n",
    "2. In a terminal, create a conda environment for TensorFlow:\n",
    "\n",
    "    ```Shell\n",
    "    conda create -n tensorflow python=3.7.3\n",
    "    ```\n",
    "    \n",
    "    *Note: We want python 3.7.3 for this tutorial, but if for some reason you'd like to use a different version, adding \"python=[x.x]\" will instead create a environment with Python version [x.x] (eg 2.7, 3.5).*\n",
    "    \n",
    "3. Activate your new environment:\n",
    "\n",
    "    ```Shell\n",
    "conda create -n tf-cpu tensorflow\n",    
    
    "conda activate tensorflow\n",
    "    ```\n",
    "    \n",
    "    You will see your prompt prepend `(tensorflow)` to indicate that you are in your `tensorflow` environment.\n",
    "\n",
    "4. Install some prerequisite packages, as well as some that may be useful for this class:\n",
    "    \n",
    "    ```Shell\n",
    "    conda install imageio numpy matplotlib jupyter spyder tqdm urllib3 h5py\n",
    "    ```\n",
    "\n",
    "5. Install either the CPU version or GPU version of TensorFlow:\n",
    "\n",
    "conda create -n tf-cpu tensorflow\n,"
    "    CPU: *(Recommended as sufficient for this class)*\n",
    "    ```Shell\n",
    "    pip install --ignore-installed --upgrade https://storage.googleapis.com/tensorflow/linux/cpu/tensorflow-1.13.1-cp37-cp37m-linux_x86_64.whl\n",
    "    ```\n",
    "    \n",
    "    GPU: (You'll also need to install some [Nvidia software](https://www.tensorflow.org/install/install_linux#nvidia_requirements_to_run_tensorflow_with_gpu_support))\n",
    "    ```Shell\n",
    "    pip install --ignore-installed --upgrade https://storage.googleapis.com/tensorflow/linux/gpu/tensorflow_gpu-1.13.1-cp37-cp37m-linux_x86_64.whl\n",
    "    ```\n",
    "\n",
    "    *Note: If you have GPUs available, you should use the GPU version for any serious research, as it is often 10-25x faster. For the purposes of this demo though, the CPU version is sufficent.*\n",
    "    \n",
    "6. Verify your install (see bottom of this notebook)"
   ]
  },
  {
   "cell_type": "markdown",
   "metadata": {},
   "source": [
    "## Windows"
   ]
  },
  {
   "cell_type": "markdown",
   "metadata": {},
   "source": [
    "1. Download and install Anaconda\n",
    "\n",
    "    1.1 Go [here](https://www.anaconda.com/download/#windows) and click on the Python 3.7 installer matching your system's architecture (likely 64-bit X86).\n",
    "    \n",
    "    1.2 Open the installer from your downloads folder and run it by double clicking on it. \n",
    "    \n",
    "    1.3 Follow the installer's instructions. \n",
    "    *Note: The installer will at one point ask if you'd like to add `conda` to PATH. The installer will recommend against this as it may cause Python dependency problems; however, doing so will grant you the convenience of running `conda` commands from any directory within your command prompt. If you choose to leave this box unchecked, you should use the Anaconda command prompt instead of the Command Prompt when planning on running `conda` commands.*\n",
    "    \n",
    "2. Open a Command Prompt and create a conda environment for TensorFlow:\n",
    "\n",
    "    ```Shell\n",
    "    conda create -n tensorflow python=3.6\n",
    "    ```\n",
    "    *Note: We want python 3.6 for this tutorial, but if for some reason you'd like to use a different version, adding \"python=[x.x]\" will instead create a environment with Python version [x.x] (eg 2.7, 3.5).*\n",
    "    \n",
    "3. Activate your new environment:\n",
    "\n",
    "    ```Shell\n",
    "    activate tensorflow\n",
    "    ```\n",
    "    \n",
    "    You will see your prompt prepend `(tensorflow)` to indicate that you are in your `tensorflow` environment.\n",
    "\n",
    "4. Install some prerequisite packages, as well as some that may be useful for this class:\n",
    "    \n",
    "    ```Shell\n",
    "    conda install imageio numpy matplotlib jupyter spyder tqdm urllib3 h5py\n",
    "    ```\n",
    "\n",
    "5. Install either the CPU version or GPU version of TensorFlow:\n",
    "\n",
    "    CPU: *(Recommended as sufficient for this class)*\n",
    "    ```Shell\n",
    "    pip install --ignore-installed --upgrade https://storage.googleapis.com/tensorflow/windows/cpu/tensorflow-1.12.0-cp36-cp36m-win_amd64.whl\n",
    "    ```\n",
    "    \n",
    "    GPU: (You'll also need to install some [Nvidia software](https://www.tensorflow.org/install/install_windows#requirements_to_run_tensorflow_with_gpu_support)\n",
    "    ```Shell\n",
    "    pip install --ignore-installed --upgrade https://storage.googleapis.com/tensorflow/windows/gpu/tensorflow_gpu-1.12.0-cp36-cp36m-win_amd64.whl\n",
    "    ```\n",
    "\n",
    "    *Note: If you have GPUs available, you should use the GPU version for any serious research, as it is often 10-25x faster. For the purposes of this demo though, the CPU version is sufficent.*\n",
    "    \n",
    "6. Verify your install (see bottom of this notebook)"
   ]
  },
  {
   "cell_type": "markdown",
   "metadata": {},
   "source": [
    "## Mac OS X"
   ]
  },
  {
   "cell_type": "markdown",
   "metadata": {},
   "source": [
    "1. Download and install Anaconda\n",
    "\n",
    "    1.1 Go [here](https://www.anaconda.com/download/#macos) and click on the **command line** Python 3.7 installer. \n",
    "    *The following instructions apply to the command line version only. If you click on the large green \"Download\" button, you will get the graphical installer instead.*\n",
    "    \n",
    "    1.2 Navigate to your downloads directory in a terminal and run the installer:\n",
    "    \n",
    "    ```Shell\n",
    "    cd ~/Downloads/\n",
    "    bash Anaconda3-2019.03-MacOSX-x86_64.sh\n",
    "    ```\n",
    "    *Note: If prompted, you may find it helpful to say \"yes\" to the option to prepend `conda` to PATH. While there is a risk it might cause some dependency conflicts, it will also make it much easier to run `conda` commands from the terminal.* \n",
    "\n",
    "2. In a terminal, create a conda environment for TensorFlow:\n",
    "\n",
    "    ```Shell\n",
    "    conda create -n tensorflow python=3.6\n",
    "    ```\n",
    "    \n",
    "    *Note: We want python 3.6 for this tutorial, but if for some reason you'd like to use a different version, adding \"python=[x.x]\" will instead create a environment with Python version [x.x] (eg 2.7, 3.5).*\n",
    "    \n",
    "3. Activate your new environment:\n",
    "\n",
    "    ```Shell\n",
    "    conda activate tensorflow\n",
    "    ```\n",
    "    \n",
    "    You will see your prompt prepend `(tensorflow)` to indicate that you are in your `tensorflow` environment.\n",
    "\n",
    "4. Install some prerequisite packages, as well as some that may be useful for this class:\n",
    "    \n",
    "    ```Shell\n",
    "    conda install imageio numpy matplotlib jupyter spyder tqdm urllib3 h5py\n",
    "    ```\n",
    "\n",
    "5. Install either the CPU version or GPU version of TensorFlow:\n",
    "\n",
    "    CPU:\n",
    "    ```Shell\n",
    "    pip install --ignore-installed --upgrade https://storage.googleapis.com/tensorflow/mac/cpu/tensorflow-1.12.0-py3-none-any.whl\n",
    "    ```\n",
    "    \n",
    "    GPU: Unfortunately, TensorFlow with GPU compatibility is no longer supported on Mac OS X\n",
    "\n",
    "    *Note: If you have them available, you should use a machine with GPUs, as it is often 10-25x faster. For the purposes of this demo though, the CPU version is sufficent.*\n",
    "    \n",
    "6. Verify your install (see bottom of this notebook)\n",
    "7. Install Packages"
   ]
  },
  {
   "cell_type": "markdown",
   "metadata": {},
   "source": [
    "## Verify TensorFlow Installation"
   ]
  },
  {
   "cell_type": "markdown",
   "metadata": {},
   "source": [
    "1. While in your `tensorflow` environment, enter the Python shell with:\n",
    "    \n",
    "    ```Shell\n",
    "    python\n",
    "    ```\n",
    "    \n",
    "    Verify that your python version says Python 3.6.[x].\n",
    "    \n",
    "2. Enter this program into your Python shell:\n",
    "\n",
    "    ```Shell\n",
    "    import tensorflow as tf\n",
    "    hello = tf.constant('Hello, TensorFlow!')\n",
    "    sess = tf.Session()\n",
    "    print(sess.run(hello))\n",
    "    ```\n",
    "    \n",
    "    Possible warnings that `The TensorFlow library wasn't compiled to use * instructions` can be ignored. These warnings state that building from source can lead to speed improvements, but these won't make a dramatic difference for these demos.\n",
    "    \n",
    "    Your command line should return:\n",
    "    \n",
    "    ```Shell\n",
    "    Hello, TensorFlow!\n",
    "    ```   "
   ]
  },
  {
   "cell_type": "code",
   "execution_count": null,
   "metadata": {},
   "outputs": [],
   "source": []
  },
  {
   "cell_type": "code",
   "execution_count": null,
   "metadata": {},
   "outputs": [],
   "source": []
  }
 ],
 "metadata": {
  "kernelspec": {
   "display_name": "Python 3",
   "language": "python",
   "name": "python3"
  },
  "language_info": {
   "codemirror_mode": {
    "name": "ipython",
    "version": 3
   },
   "file_extension": ".py",
   "mimetype": "text/x-python",
   "name": "python",
   "nbconvert_exporter": "python",
   "pygments_lexer": "ipython3",
   "version": "3.6.8"
  }
 },
 "nbformat": 4,
 "nbformat_minor": 1
}
